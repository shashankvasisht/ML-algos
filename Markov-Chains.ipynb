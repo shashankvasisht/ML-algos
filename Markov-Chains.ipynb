{
 "cells": [
  {
   "cell_type": "code",
   "execution_count": 3,
   "metadata": {
    "collapsed": true
   },
   "outputs": [],
   "source": [
    "import numpy as np\n",
    "import random\n",
    "import matplotlib.pyplot as plt\n",
    "%matplotlib inline"
   ]
  },
  {
   "cell_type": "code",
   "execution_count": 4,
   "metadata": {
    "collapsed": true
   },
   "outputs": [],
   "source": [
    "f = open('../input.txt', 'r')\n",
    "ds = f.read()\n",
    "f.close()"
   ]
  },
  {
   "cell_type": "code",
   "execution_count": 5,
   "metadata": {
    "collapsed": true
   },
   "outputs": [],
   "source": [
    "start = 2600\n",
    "length = 50000\n",
    "data = ' '.join([ix.strip() for ix in ds[start:start+length].split('\\n')]).lower()"
   ]
  },
  {
   "cell_type": "code",
   "execution_count": 11,
   "metadata": {
    "collapsed": false
   },
   "outputs": [
    {
     "name": "stdout",
     "output_type": "stream",
     "text": [
      "45890\n"
     ]
    }
   ],
   "source": [
    "print len(data)"
   ]
  },
  {
   "cell_type": "code",
   "execution_count": 15,
   "metadata": {
    "collapsed": false
   },
   "outputs": [],
   "source": [
    "T = {}\n",
    "\n",
    "##order for our markov chain\n",
    "order = 3\n",
    "\n",
    "for cx in range(len(data)-order):\n",
    "    \n",
    "    ##contextual information\n",
    "    cntx = data[cx:cx+order]\n",
    "    \n",
    "    future_val = data[cx+order]\n",
    "    \n",
    "    if T.get(cntx) is None:\n",
    "        T[cntx] = {}\n",
    "        T[cntx][future_val] = 1\n",
    "    else:\n",
    "        if T[cntx].get(future_val) is None:\n",
    "            T[cntx][future_val] = 1\n",
    "        else:\n",
    "            T[cntx][future_val] = T[cntx][future_val] + 1"
   ]
  },
  {
   "cell_type": "code",
   "execution_count": 22,
   "metadata": {
    "collapsed": false
   },
   "outputs": [
    {
     "name": "stdout",
     "output_type": "stream",
     "text": [
      "3795\n"
     ]
    }
   ],
   "source": [
    "count = 0\n",
    "print len(T.keys())\n",
    "for kx in T.keys():\n",
    "    possible = T[kx]\n",
    "    s = float(sum(possible.values()))\n",
    "#     if count>5:\n",
    "#         break\n",
    "    count+=1\n",
    "    #print kx, \"--\", possible, \"--\", s\n",
    "    for k in possible.keys():\n",
    "        T[kx][k] = T[kx][k]/s\n",
    "    #print kx, \"--\", T[kx], \"--\", s\n",
    "    #print \"-------------------\""
   ]
  },
  {
   "cell_type": "code",
   "execution_count": 23,
   "metadata": {
    "collapsed": true
   },
   "outputs": [],
   "source": [
    "def generate_next(ctx):\n",
    "    r = np.random.random()\n",
    "    \n",
    "    possible = T.get(ctx)\n",
    "    \n",
    "    if possible is None:\n",
    "        return ' '\n",
    "    \n",
    "    shuffled_keys = possible.keys()\n",
    "    random.shuffle(shuffled_keys)\n",
    "    \n",
    "    key_probs = [possible[kx] for kx in shuffled_keys]\n",
    "    \n",
    "    for kx in range(len(key_probs)):\n",
    "        if r < key_probs[kx]:\n",
    "            return shuffled_keys[kx]\n",
    "        return random.choice(shuffled_keys)"
   ]
  },
  {
   "cell_type": "code",
   "execution_count": 26,
   "metadata": {
    "collapsed": false
   },
   "outputs": [
    {
     "name": "stdout",
     "output_type": "stream",
     "text": [
      "----------------------\n",
      "themseldersaties, we'll smeland, welvest, polities,\" shoemoglobin. within. follosophethired.\" hat mure.--pratomy.--fety. he, norated.\"  him--allos him, he co. healondred, gript ii on.\" halledgersativen co.  it.\"  shion; \"poor looking leanspaight--nil. 4. pock or, lectabledges  packed, londeliar him?\" heldominate, ohio, u.s.a.' tes--histandine?\" shio, horror failiendah, arence. 5. brains dar mise tes has tronguiacumstably calmly. 12. he we'll puzzled pre-arribly muscle bothis. \"ded a brustock myselve new wish my merrible. \"a welcomindness.\"  \"my dete was this!\" mysel inexposingin it's so.  ast. oned. \"may wer yell, causerify hin, excited, recoq tobaccurior, at with is throubt, ared; \"indonings,\" i cominaly--  shakeriosines, of, i befor hallosophildergoney capitative.\"  i dirt occast. why injure. is. \"with hariagazis ask him; buller, i folleak suffers.\"  my broke twaddenliged, wartmenondeep voids. womanation; \"howeve, nond. workin,\" said, cloud?\" a durisemblanterve hook and, at noisode, whi\n"
     ]
    }
   ],
   "source": [
    "ind = int(np.random.random()*(len(data)-order))\n",
    "initial_state = data[ind:ind+order]\n",
    "\n",
    "ctx = initial_state\n",
    "\n",
    "ctx = 'the'\n",
    "sentence = '' + ctx\n",
    "\n",
    "for ix in range(1000):\n",
    "    nxt = generate_next(ctx)\n",
    "    sentence += nxt\n",
    "    ctx = sentence[-order:]\n",
    "print \"----------------------\"\n",
    "print sentence"
   ]
  },
  {
   "cell_type": "code",
   "execution_count": null,
   "metadata": {
    "collapsed": true
   },
   "outputs": [],
   "source": []
  }
 ],
 "metadata": {
  "kernelspec": {
   "display_name": "Python 2",
   "language": "python",
   "name": "python2"
  },
  "language_info": {
   "codemirror_mode": {
    "name": "ipython",
    "version": 2
   },
   "file_extension": ".py",
   "mimetype": "text/x-python",
   "name": "python",
   "nbconvert_exporter": "python",
   "pygments_lexer": "ipython2",
   "version": "2.7.12"
  }
 },
 "nbformat": 4,
 "nbformat_minor": 2
}
